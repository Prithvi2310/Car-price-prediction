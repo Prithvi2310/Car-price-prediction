{
 "cells": [
  {
   "cell_type": "code",
   "execution_count": 1,
   "metadata": {},
   "outputs": [],
   "source": [
    "#RFE\n",
    "import numpy as np\n",
    "import pandas as pd\n",
    "import matplotlib.pyplot as plt\n",
    "import seaborn as sns\n",
    "import statsmodels.api as sm\n",
    "from statsmodels.stats.outliers_influence import variance_inflation_factor\n",
    "from sklearn.feature_selection import RFE\n",
    "from sklearn.linear_model import LinearRegression\n",
    "from sklearn.preprocessing import MinMaxScaler"
   ]
  },
  {
   "cell_type": "code",
   "execution_count": 2,
   "metadata": {},
   "outputs": [],
   "source": [
    "train = pd.read_csv('Data/train.csv')"
   ]
  },
  {
   "cell_type": "code",
   "execution_count": 3,
   "metadata": {},
   "outputs": [
    {
     "data": {
      "text/html": [
       "<div>\n",
       "<style scoped>\n",
       "    .dataframe tbody tr th:only-of-type {\n",
       "        vertical-align: middle;\n",
       "    }\n",
       "\n",
       "    .dataframe tbody tr th {\n",
       "        vertical-align: top;\n",
       "    }\n",
       "\n",
       "    .dataframe thead th {\n",
       "        text-align: right;\n",
       "    }\n",
       "</style>\n",
       "<table border=\"1\" class=\"dataframe\">\n",
       "  <thead>\n",
       "    <tr style=\"text-align: right;\">\n",
       "      <th></th>\n",
       "      <th>price</th>\n",
       "      <th>wheelbase</th>\n",
       "      <th>curbweight</th>\n",
       "      <th>enginesize</th>\n",
       "      <th>boreratio</th>\n",
       "      <th>horsepower</th>\n",
       "      <th>carlength</th>\n",
       "      <th>carwidth</th>\n",
       "      <th>gas</th>\n",
       "      <th>turbo</th>\n",
       "      <th>...</th>\n",
       "      <th>ohcv</th>\n",
       "      <th>rotor</th>\n",
       "      <th>five</th>\n",
       "      <th>four</th>\n",
       "      <th>six</th>\n",
       "      <th>three</th>\n",
       "      <th>twelve</th>\n",
       "      <th>two</th>\n",
       "      <th>Medium</th>\n",
       "      <th>Highend</th>\n",
       "    </tr>\n",
       "  </thead>\n",
       "  <tbody>\n",
       "    <tr>\n",
       "      <th>0</th>\n",
       "      <td>18344</td>\n",
       "      <td>104.9</td>\n",
       "      <td>2700</td>\n",
       "      <td>134</td>\n",
       "      <td>3.43</td>\n",
       "      <td>72</td>\n",
       "      <td>175.0</td>\n",
       "      <td>66.1</td>\n",
       "      <td>False</td>\n",
       "      <td>False</td>\n",
       "      <td>...</td>\n",
       "      <td>False</td>\n",
       "      <td>False</td>\n",
       "      <td>False</td>\n",
       "      <td>True</td>\n",
       "      <td>False</td>\n",
       "      <td>False</td>\n",
       "      <td>False</td>\n",
       "      <td>False</td>\n",
       "      <td>True</td>\n",
       "      <td>False</td>\n",
       "    </tr>\n",
       "    <tr>\n",
       "      <th>1</th>\n",
       "      <td>15580</td>\n",
       "      <td>107.9</td>\n",
       "      <td>3075</td>\n",
       "      <td>120</td>\n",
       "      <td>3.46</td>\n",
       "      <td>95</td>\n",
       "      <td>186.7</td>\n",
       "      <td>68.4</td>\n",
       "      <td>True</td>\n",
       "      <td>False</td>\n",
       "      <td>...</td>\n",
       "      <td>False</td>\n",
       "      <td>False</td>\n",
       "      <td>False</td>\n",
       "      <td>True</td>\n",
       "      <td>False</td>\n",
       "      <td>False</td>\n",
       "      <td>False</td>\n",
       "      <td>False</td>\n",
       "      <td>True</td>\n",
       "      <td>False</td>\n",
       "    </tr>\n",
       "    <tr>\n",
       "      <th>2</th>\n",
       "      <td>6918</td>\n",
       "      <td>95.7</td>\n",
       "      <td>2280</td>\n",
       "      <td>92</td>\n",
       "      <td>3.05</td>\n",
       "      <td>62</td>\n",
       "      <td>169.7</td>\n",
       "      <td>63.6</td>\n",
       "      <td>True</td>\n",
       "      <td>False</td>\n",
       "      <td>...</td>\n",
       "      <td>False</td>\n",
       "      <td>False</td>\n",
       "      <td>False</td>\n",
       "      <td>True</td>\n",
       "      <td>False</td>\n",
       "      <td>False</td>\n",
       "      <td>False</td>\n",
       "      <td>False</td>\n",
       "      <td>False</td>\n",
       "      <td>False</td>\n",
       "    </tr>\n",
       "    <tr>\n",
       "      <th>3</th>\n",
       "      <td>7499</td>\n",
       "      <td>94.5</td>\n",
       "      <td>1971</td>\n",
       "      <td>97</td>\n",
       "      <td>3.15</td>\n",
       "      <td>69</td>\n",
       "      <td>165.3</td>\n",
       "      <td>63.8</td>\n",
       "      <td>True</td>\n",
       "      <td>False</td>\n",
       "      <td>...</td>\n",
       "      <td>False</td>\n",
       "      <td>False</td>\n",
       "      <td>False</td>\n",
       "      <td>True</td>\n",
       "      <td>False</td>\n",
       "      <td>False</td>\n",
       "      <td>False</td>\n",
       "      <td>False</td>\n",
       "      <td>True</td>\n",
       "      <td>False</td>\n",
       "    </tr>\n",
       "    <tr>\n",
       "      <th>4</th>\n",
       "      <td>9095</td>\n",
       "      <td>96.5</td>\n",
       "      <td>2289</td>\n",
       "      <td>110</td>\n",
       "      <td>3.15</td>\n",
       "      <td>86</td>\n",
       "      <td>167.5</td>\n",
       "      <td>65.2</td>\n",
       "      <td>True</td>\n",
       "      <td>False</td>\n",
       "      <td>...</td>\n",
       "      <td>False</td>\n",
       "      <td>False</td>\n",
       "      <td>False</td>\n",
       "      <td>True</td>\n",
       "      <td>False</td>\n",
       "      <td>False</td>\n",
       "      <td>False</td>\n",
       "      <td>False</td>\n",
       "      <td>False</td>\n",
       "      <td>False</td>\n",
       "    </tr>\n",
       "  </tbody>\n",
       "</table>\n",
       "<p>5 rows × 30 columns</p>\n",
       "</div>"
      ],
      "text/plain": [
       "   price  wheelbase  curbweight  enginesize  boreratio  horsepower  carlength  \\\n",
       "0  18344      104.9        2700         134       3.43          72      175.0   \n",
       "1  15580      107.9        3075         120       3.46          95      186.7   \n",
       "2   6918       95.7        2280          92       3.05          62      169.7   \n",
       "3   7499       94.5        1971          97       3.15          69      165.3   \n",
       "4   9095       96.5        2289         110       3.15          86      167.5   \n",
       "\n",
       "   carwidth    gas  turbo  ...   ohcv  rotor   five  four    six  three  \\\n",
       "0      66.1  False  False  ...  False  False  False  True  False  False   \n",
       "1      68.4   True  False  ...  False  False  False  True  False  False   \n",
       "2      63.6   True  False  ...  False  False  False  True  False  False   \n",
       "3      63.8   True  False  ...  False  False  False  True  False  False   \n",
       "4      65.2   True  False  ...  False  False  False  True  False  False   \n",
       "\n",
       "   twelve    two  Medium  Highend  \n",
       "0   False  False    True    False  \n",
       "1   False  False    True    False  \n",
       "2   False  False   False    False  \n",
       "3   False  False    True    False  \n",
       "4   False  False   False    False  \n",
       "\n",
       "[5 rows x 30 columns]"
      ]
     },
     "execution_count": 3,
     "metadata": {},
     "output_type": "execute_result"
    }
   ],
   "source": [
    "train.head()"
   ]
  },
  {
   "cell_type": "code",
   "execution_count": 4,
   "metadata": {},
   "outputs": [],
   "source": [
    "scaler = MinMaxScaler()\n",
    "num_vars = ['wheelbase', 'curbweight', 'enginesize', 'boreratio', 'horsepower','carlength','carwidth','price']\n",
    "train[num_vars] = scaler.fit_transform(train[num_vars])"
   ]
  },
  {
   "cell_type": "code",
   "execution_count": 5,
   "metadata": {},
   "outputs": [],
   "source": [
    "columns = list(train.columns)\n",
    "for column in columns[8:]:\n",
    "    train[column] = train[column].astype(int)"
   ]
  },
  {
   "cell_type": "code",
   "execution_count": 6,
   "metadata": {},
   "outputs": [],
   "source": [
    "y_train = train.pop('price')\n",
    "X_train = train"
   ]
  },
  {
   "cell_type": "code",
   "execution_count": 7,
   "metadata": {},
   "outputs": [
    {
     "name": "stdout",
     "output_type": "stream",
     "text": [
      "(164, 29)\n",
      "(164,)\n"
     ]
    }
   ],
   "source": [
    "print(X_train.shape)\n",
    "print(y_train.shape)"
   ]
  },
  {
   "cell_type": "code",
   "execution_count": 8,
   "metadata": {},
   "outputs": [],
   "source": [
    "lm = LinearRegression()"
   ]
  },
  {
   "cell_type": "code",
   "execution_count": 9,
   "metadata": {},
   "outputs": [],
   "source": [
    "rfe = RFE(estimator=LinearRegression(), n_features_to_select=10)\n",
    "rfe = rfe.fit(X_train,y_train)"
   ]
  },
  {
   "cell_type": "code",
   "execution_count": 10,
   "metadata": {},
   "outputs": [
    {
     "data": {
      "text/plain": [
       "[('wheelbase', False, 12),\n",
       " ('curbweight', True, 1),\n",
       " ('enginesize', False, 5),\n",
       " ('boreratio', True, 1),\n",
       " ('horsepower', True, 1),\n",
       " ('carlength', False, 8),\n",
       " ('carwidth', True, 1),\n",
       " ('gas', False, 13),\n",
       " ('turbo', False, 19),\n",
       " ('hardtop', False, 14),\n",
       " ('hatchback', True, 1),\n",
       " ('sedan', True, 1),\n",
       " ('wagon', True, 1),\n",
       " ('fwd', False, 18),\n",
       " ('rwd', False, 17),\n",
       " ('dohcv', True, 1),\n",
       " ('l', False, 16),\n",
       " ('ohc', False, 15),\n",
       " ('ohcf', False, 7),\n",
       " ('ohcv', False, 6),\n",
       " ('rotor', False, 9),\n",
       " ('five', False, 4),\n",
       " ('four', False, 2),\n",
       " ('six', False, 3),\n",
       " ('three', False, 20),\n",
       " ('twelve', True, 1),\n",
       " ('two', False, 11),\n",
       " ('Medium', False, 10),\n",
       " ('Highend', True, 1)]"
      ]
     },
     "execution_count": 10,
     "metadata": {},
     "output_type": "execute_result"
    }
   ],
   "source": [
    "list(zip(X_train.columns,rfe.support_,rfe.ranking_))"
   ]
  },
  {
   "cell_type": "code",
   "execution_count": 11,
   "metadata": {},
   "outputs": [
    {
     "data": {
      "text/plain": [
       "Index(['curbweight', 'boreratio', 'horsepower', 'carwidth', 'hatchback',\n",
       "       'sedan', 'wagon', 'dohcv', 'twelve', 'Highend'],\n",
       "      dtype='object')"
      ]
     },
     "execution_count": 11,
     "metadata": {},
     "output_type": "execute_result"
    }
   ],
   "source": [
    "#Selects the top 10 columns from the dataframe\n",
    "X_train.columns[rfe.support_]"
   ]
  },
  {
   "cell_type": "markdown",
   "metadata": {},
   "source": [
    "#### Building the models\n",
    "Using statsmodels for detailed statistics"
   ]
  },
  {
   "cell_type": "code",
   "execution_count": 12,
   "metadata": {},
   "outputs": [],
   "source": [
    "X_train_rfe = X_train[X_train.columns[rfe.support_]]"
   ]
  },
  {
   "cell_type": "code",
   "execution_count": 13,
   "metadata": {},
   "outputs": [
    {
     "data": {
      "text/html": [
       "<div>\n",
       "<style scoped>\n",
       "    .dataframe tbody tr th:only-of-type {\n",
       "        vertical-align: middle;\n",
       "    }\n",
       "\n",
       "    .dataframe tbody tr th {\n",
       "        vertical-align: top;\n",
       "    }\n",
       "\n",
       "    .dataframe thead th {\n",
       "        text-align: right;\n",
       "    }\n",
       "</style>\n",
       "<table border=\"1\" class=\"dataframe\">\n",
       "  <thead>\n",
       "    <tr style=\"text-align: right;\">\n",
       "      <th></th>\n",
       "      <th>curbweight</th>\n",
       "      <th>boreratio</th>\n",
       "      <th>horsepower</th>\n",
       "      <th>carwidth</th>\n",
       "      <th>hatchback</th>\n",
       "      <th>sedan</th>\n",
       "      <th>wagon</th>\n",
       "      <th>dohcv</th>\n",
       "      <th>twelve</th>\n",
       "      <th>Highend</th>\n",
       "    </tr>\n",
       "  </thead>\n",
       "  <tbody>\n",
       "    <tr>\n",
       "      <th>0</th>\n",
       "      <td>0.392078</td>\n",
       "      <td>0.635714</td>\n",
       "      <td>0.084746</td>\n",
       "      <td>0.409524</td>\n",
       "      <td>0</td>\n",
       "      <td>1</td>\n",
       "      <td>0</td>\n",
       "      <td>0</td>\n",
       "      <td>0</td>\n",
       "      <td>0</td>\n",
       "    </tr>\n",
       "    <tr>\n",
       "      <th>1</th>\n",
       "      <td>0.558968</td>\n",
       "      <td>0.657143</td>\n",
       "      <td>0.182203</td>\n",
       "      <td>0.628571</td>\n",
       "      <td>0</td>\n",
       "      <td>1</td>\n",
       "      <td>0</td>\n",
       "      <td>0</td>\n",
       "      <td>0</td>\n",
       "      <td>0</td>\n",
       "    </tr>\n",
       "    <tr>\n",
       "      <th>2</th>\n",
       "      <td>0.205162</td>\n",
       "      <td>0.364286</td>\n",
       "      <td>0.042373</td>\n",
       "      <td>0.171429</td>\n",
       "      <td>0</td>\n",
       "      <td>0</td>\n",
       "      <td>1</td>\n",
       "      <td>0</td>\n",
       "      <td>0</td>\n",
       "      <td>0</td>\n",
       "    </tr>\n",
       "    <tr>\n",
       "      <th>3</th>\n",
       "      <td>0.067646</td>\n",
       "      <td>0.435714</td>\n",
       "      <td>0.072034</td>\n",
       "      <td>0.190476</td>\n",
       "      <td>0</td>\n",
       "      <td>1</td>\n",
       "      <td>0</td>\n",
       "      <td>0</td>\n",
       "      <td>0</td>\n",
       "      <td>0</td>\n",
       "    </tr>\n",
       "    <tr>\n",
       "      <th>4</th>\n",
       "      <td>0.209168</td>\n",
       "      <td>0.435714</td>\n",
       "      <td>0.144068</td>\n",
       "      <td>0.323810</td>\n",
       "      <td>1</td>\n",
       "      <td>0</td>\n",
       "      <td>0</td>\n",
       "      <td>0</td>\n",
       "      <td>0</td>\n",
       "      <td>0</td>\n",
       "    </tr>\n",
       "  </tbody>\n",
       "</table>\n",
       "</div>"
      ],
      "text/plain": [
       "   curbweight  boreratio  horsepower  carwidth  hatchback  sedan  wagon  \\\n",
       "0    0.392078   0.635714    0.084746  0.409524          0      1      0   \n",
       "1    0.558968   0.657143    0.182203  0.628571          0      1      0   \n",
       "2    0.205162   0.364286    0.042373  0.171429          0      0      1   \n",
       "3    0.067646   0.435714    0.072034  0.190476          0      1      0   \n",
       "4    0.209168   0.435714    0.144068  0.323810          1      0      0   \n",
       "\n",
       "   dohcv  twelve  Highend  \n",
       "0      0       0        0  \n",
       "1      0       0        0  \n",
       "2      0       0        0  \n",
       "3      0       0        0  \n",
       "4      0       0        0  "
      ]
     },
     "execution_count": 13,
     "metadata": {},
     "output_type": "execute_result"
    }
   ],
   "source": [
    "X_train_rfe.head()"
   ]
  },
  {
   "cell_type": "code",
   "execution_count": 14,
   "metadata": {},
   "outputs": [],
   "source": [
    "def build_model(X,y):\n",
    "    '''\n",
    "    The below command is used to add an intercept to the equation i.e. y = mx + b. This is done because the model by default\n",
    "    assumes the value of b to be 0 if not given explicitly. This causes the algorithm to not optimise b at all, which is \n",
    "    undesirable.\n",
    "    '''\n",
    "    X = sm.add_constant(X)\n",
    "    lm = sm.OLS(y,X).fit() #fitting the model \n",
    "    print(lm.summary()) # model summary\n",
    "    return X"
   ]
  },
  {
   "cell_type": "code",
   "execution_count": 26,
   "metadata": {},
   "outputs": [],
   "source": [
    "def checkVIF(X):\n",
    "    vif = pd.DataFrame()\n",
    "    vif['features'] = X.columns\n",
    "    vif['VIF'] = [variance_inflation_factor(X.values, i) for i in range(X.shape[1])]\n",
    "    vif['VIF'] = round(vif['VIF'],2)\n",
    "    vif = vif.sort_values(by='VIF',ascending=False)\n",
    "    return vif"
   ]
  },
  {
   "cell_type": "markdown",
   "metadata": {},
   "source": [
    "Model 1"
   ]
  },
  {
   "cell_type": "code",
   "execution_count": 16,
   "metadata": {},
   "outputs": [
    {
     "name": "stdout",
     "output_type": "stream",
     "text": [
      "                            OLS Regression Results                            \n",
      "==============================================================================\n",
      "Dep. Variable:                  price   R-squared:                       0.938\n",
      "Model:                            OLS   Adj. R-squared:                  0.934\n",
      "Method:                 Least Squares   F-statistic:                     231.1\n",
      "Date:                Wed, 23 Aug 2023   Prob (F-statistic):           5.86e-87\n",
      "Time:                        00:24:04   Log-Likelihood:                 266.07\n",
      "No. Observations:                 164   AIC:                            -510.1\n",
      "Df Residuals:                     153   BIC:                            -476.0\n",
      "Df Model:                          10                                         \n",
      "Covariance Type:            nonrobust                                         \n",
      "==============================================================================\n",
      "                 coef    std err          t      P>|t|      [0.025      0.975]\n",
      "------------------------------------------------------------------------------\n",
      "const          0.0811      0.023      3.525      0.001       0.036       0.126\n",
      "curbweight     0.2047      0.045      4.597      0.000       0.117       0.293\n",
      "boreratio     -0.0710      0.027     -2.631      0.009      -0.124      -0.018\n",
      "horsepower     0.3315      0.043      7.634      0.000       0.246       0.417\n",
      "carwidth       0.2494      0.039      6.441      0.000       0.173       0.326\n",
      "hatchback     -0.1208      0.018     -6.605      0.000      -0.157      -0.085\n",
      "sedan         -0.1015      0.018     -5.650      0.000      -0.137      -0.066\n",
      "wagon         -0.1263      0.021     -5.902      0.000      -0.169      -0.084\n",
      "dohcv         -0.2011      0.058     -3.446      0.001      -0.316      -0.086\n",
      "twelve        -0.1028      0.054     -1.903      0.059      -0.209       0.004\n",
      "Highend        0.2423      0.016     15.346      0.000       0.211       0.274\n",
      "==============================================================================\n",
      "Omnibus:                       17.830   Durbin-Watson:                   2.066\n",
      "Prob(Omnibus):                  0.000   Jarque-Bera (JB):               58.055\n",
      "Skew:                           0.254   Prob(JB):                     2.48e-13\n",
      "Kurtosis:                       5.870   Cond. No.                         26.6\n",
      "==============================================================================\n",
      "\n",
      "Notes:\n",
      "[1] Standard Errors assume that the covariance matrix of the errors is correctly specified.\n"
     ]
    }
   ],
   "source": [
    "X_train_new = build_model(X_train_rfe,y_train)"
   ]
  },
  {
   "cell_type": "code",
   "execution_count": 17,
   "metadata": {},
   "outputs": [],
   "source": [
    "X_train_new = X_train_rfe.drop([\"twelve\"],axis=1)"
   ]
  },
  {
   "cell_type": "code",
   "execution_count": 20,
   "metadata": {},
   "outputs": [
    {
     "data": {
      "text/plain": [
       "(164, 9)"
      ]
     },
     "execution_count": 20,
     "metadata": {},
     "output_type": "execute_result"
    }
   ],
   "source": [
    "X_train_new.shape"
   ]
  },
  {
   "cell_type": "markdown",
   "metadata": {},
   "source": [
    "Model 2"
   ]
  },
  {
   "cell_type": "code",
   "execution_count": 21,
   "metadata": {},
   "outputs": [
    {
     "name": "stdout",
     "output_type": "stream",
     "text": [
      "                            OLS Regression Results                            \n",
      "==============================================================================\n",
      "Dep. Variable:                  price   R-squared:                       0.936\n",
      "Model:                            OLS   Adj. R-squared:                  0.933\n",
      "Method:                 Least Squares   F-statistic:                     252.1\n",
      "Date:                Wed, 23 Aug 2023   Prob (F-statistic):           2.13e-87\n",
      "Time:                        00:28:18   Log-Likelihood:                 264.15\n",
      "No. Observations:                 164   AIC:                            -508.3\n",
      "Df Residuals:                     154   BIC:                            -477.3\n",
      "Df Model:                           9                                         \n",
      "Covariance Type:            nonrobust                                         \n",
      "==============================================================================\n",
      "                 coef    std err          t      P>|t|      [0.025      0.975]\n",
      "------------------------------------------------------------------------------\n",
      "const          0.0860      0.023      3.734      0.000       0.041       0.132\n",
      "curbweight     0.2076      0.045      4.625      0.000       0.119       0.296\n",
      "boreratio     -0.0655      0.027     -2.420      0.017      -0.119      -0.012\n",
      "horsepower     0.3088      0.042      7.333      0.000       0.226       0.392\n",
      "carwidth       0.2495      0.039      6.390      0.000       0.172       0.327\n",
      "hatchback     -0.1246      0.018     -6.793      0.000      -0.161      -0.088\n",
      "sedan         -0.1068      0.018     -5.966      0.000      -0.142      -0.071\n",
      "wagon         -0.1314      0.021     -6.135      0.000      -0.174      -0.089\n",
      "dohcv         -0.1844      0.058     -3.169      0.002      -0.299      -0.069\n",
      "Highend        0.2395      0.016     15.107      0.000       0.208       0.271\n",
      "==============================================================================\n",
      "Omnibus:                       18.076   Durbin-Watson:                   2.083\n",
      "Prob(Omnibus):                  0.000   Jarque-Bera (JB):               59.384\n",
      "Skew:                           0.259   Prob(JB):                     1.27e-13\n",
      "Kurtosis:                       5.902   Cond. No.                         25.7\n",
      "==============================================================================\n",
      "\n",
      "Notes:\n",
      "[1] Standard Errors assume that the covariance matrix of the errors is correctly specified.\n"
     ]
    }
   ],
   "source": [
    "X_train_new = build_model(X_train_new,y_train)"
   ]
  },
  {
   "cell_type": "code",
   "execution_count": 23,
   "metadata": {},
   "outputs": [],
   "source": [
    "X_train_new = X_train_rfe.drop(['boreratio'],axis=1)"
   ]
  },
  {
   "cell_type": "code",
   "execution_count": 27,
   "metadata": {},
   "outputs": [
    {
     "data": {
      "text/html": [
       "<div>\n",
       "<style scoped>\n",
       "    .dataframe tbody tr th:only-of-type {\n",
       "        vertical-align: middle;\n",
       "    }\n",
       "\n",
       "    .dataframe tbody tr th {\n",
       "        vertical-align: top;\n",
       "    }\n",
       "\n",
       "    .dataframe thead th {\n",
       "        text-align: right;\n",
       "    }\n",
       "</style>\n",
       "<table border=\"1\" class=\"dataframe\">\n",
       "  <thead>\n",
       "    <tr style=\"text-align: right;\">\n",
       "      <th></th>\n",
       "      <th>features</th>\n",
       "      <th>VIF</th>\n",
       "    </tr>\n",
       "  </thead>\n",
       "  <tbody>\n",
       "    <tr>\n",
       "      <th>0</th>\n",
       "      <td>curbweight</td>\n",
       "      <td>19.66</td>\n",
       "    </tr>\n",
       "    <tr>\n",
       "      <th>2</th>\n",
       "      <td>carwidth</td>\n",
       "      <td>19.12</td>\n",
       "    </tr>\n",
       "    <tr>\n",
       "      <th>1</th>\n",
       "      <td>horsepower</td>\n",
       "      <td>8.57</td>\n",
       "    </tr>\n",
       "    <tr>\n",
       "      <th>4</th>\n",
       "      <td>sedan</td>\n",
       "      <td>2.99</td>\n",
       "    </tr>\n",
       "    <tr>\n",
       "      <th>3</th>\n",
       "      <td>hatchback</td>\n",
       "      <td>2.32</td>\n",
       "    </tr>\n",
       "    <tr>\n",
       "      <th>8</th>\n",
       "      <td>Highend</td>\n",
       "      <td>1.82</td>\n",
       "    </tr>\n",
       "    <tr>\n",
       "      <th>5</th>\n",
       "      <td>wagon</td>\n",
       "      <td>1.65</td>\n",
       "    </tr>\n",
       "    <tr>\n",
       "      <th>6</th>\n",
       "      <td>dohcv</td>\n",
       "      <td>1.29</td>\n",
       "    </tr>\n",
       "    <tr>\n",
       "      <th>7</th>\n",
       "      <td>twelve</td>\n",
       "      <td>1.12</td>\n",
       "    </tr>\n",
       "  </tbody>\n",
       "</table>\n",
       "</div>"
      ],
      "text/plain": [
       "     features    VIF\n",
       "0  curbweight  19.66\n",
       "2    carwidth  19.12\n",
       "1  horsepower   8.57\n",
       "4       sedan   2.99\n",
       "3   hatchback   2.32\n",
       "8     Highend   1.82\n",
       "5       wagon   1.65\n",
       "6       dohcv   1.29\n",
       "7      twelve   1.12"
      ]
     },
     "execution_count": 27,
     "metadata": {},
     "output_type": "execute_result"
    }
   ],
   "source": [
    "checkVIF(X_train_new)"
   ]
  },
  {
   "cell_type": "markdown",
   "metadata": {},
   "source": [
    "Model 3"
   ]
  },
  {
   "cell_type": "code",
   "execution_count": null,
   "metadata": {},
   "outputs": [],
   "source": []
  }
 ],
 "metadata": {
  "kernelspec": {
   "display_name": "carPrediction",
   "language": "python",
   "name": "python3"
  },
  "language_info": {
   "codemirror_mode": {
    "name": "ipython",
    "version": 3
   },
   "file_extension": ".py",
   "mimetype": "text/x-python",
   "name": "python",
   "nbconvert_exporter": "python",
   "pygments_lexer": "ipython3",
   "version": "3.11.1"
  },
  "orig_nbformat": 4
 },
 "nbformat": 4,
 "nbformat_minor": 2
}
